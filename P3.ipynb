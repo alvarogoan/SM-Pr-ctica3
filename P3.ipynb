{
 "cells": [
  {
   "cell_type": "markdown",
   "id": "fc256d7a-8433-4487-a911-64caf1d06ead",
   "metadata": {},
   "source": [
    "# Práctica 3 - Sistemas Multimedia\n",
    "### Autor: Álvaro González Antequera\n",
    "### Fecha: 27/02/2024"
   ]
  },
  {
   "cell_type": "markdown",
   "id": "6dd543f1-2dcc-47b8-810a-6cb29e9b2dc7",
   "metadata": {},
   "source": [
    "## Tarea 3 Parte 1:\n",
    "#### 1. He creado en GitHub un repositorio vacío y lo he clonado en mi ordenador con el comando ``` git clone (url de mi repositorio) ```.\n",
    "#### 2. He creado un entorno de conda con el comando ```conda create --name=Practica3```.\n",
    "#### 3. He creado dentro de mi repositorio local el archivo .gitignore y le he añadido la linea \".ipynb_checkpoints/\" para que se ignore dicha carpeta.\n",
    "#### 4. He activado el entorno de conda creado con el comando ```conda activate Practica3```.\n",
    "#### 5. He instalado Python, ipykernel y JupyterLab con el comando ```conda install -c conda-forge <package_name>```.\n",
    "#### 6. He añadido el entorno conda a los kernels de JupyterLab con el comando ```python3 -m ipykernel install --user --name=Practica3```.\n",
    "#### 7. Este paso lo realice en el ejercicio 5 con el comando ```conda install -c conda-forge JupyterLab```.\n",
    "#### 8. Para ejecutar JupyterLab, he ejecutado el comando ```jupyter-lab``` desde mi repositorio local."
   ]
  },
  {
   "cell_type": "markdown",
   "id": "4041f196-620e-461a-98f9-35028c0bc1b8",
   "metadata": {},
   "source": [
    "## Tarea 3 Parte 2:\n"
   ]
  },
  {
   "cell_type": "markdown",
   "id": "87371f3c-805b-46a6-98fa-2374417d1c71",
   "metadata": {},
   "source": [
    "#### 1. He organizado el notebook utilizando recursos como #, ```, listas ordenadas, etc."
   ]
  },
  {
   "cell_type": "markdown",
   "id": "8bd51be3-b309-4267-81b3-4630c892128b",
   "metadata": {},
   "source": [
    "#### 3. He cargado el audio estéreo y he mostrado sus características de la siguiente manera:"
   ]
  },
  {
   "cell_type": "code",
   "execution_count": null,
   "id": "d84e8b9b-638f-4891-8033-26d39ed97482",
   "metadata": {
    "scrolled": true
   },
   "outputs": [],
   "source": [
    "pip install scipy #Instalación para que funcionen los import para cargar el audio."
   ]
  },
  {
   "cell_type": "code",
   "execution_count": null,
   "id": "ab14ef3d-3cb3-4536-bd9c-db6fa9f8a5f3",
   "metadata": {},
   "outputs": [],
   "source": [
    "pip install matplotlib #Instalación para que funcionen los import para crear la gráfica."
   ]
  },
  {
   "cell_type": "code",
   "execution_count": null,
   "id": "4086ba2d-34fe-4465-9f3c-13af2fad4449",
   "metadata": {},
   "outputs": [],
   "source": [
    "# Imports:\n",
    "from scipy.io import wavfile\n",
    "import IPython\n",
    "import os\n",
    "import numpy as np"
   ]
  },
  {
   "cell_type": "code",
   "execution_count": null,
   "id": "087ed3f7-ff73-4aa5-9fcf-397f9fd6d371",
   "metadata": {},
   "outputs": [],
   "source": [
    "# Se obtiene el directorio actual y se construyen las rutas al directorio de audios de entrada y de salida\n",
    "cwd = os.getcwd()\n",
    "Audios_input_path = os.path.join(cwd, os.path.join('Audios', '_input'))\n",
    "Audios_output_path = os.path.join(cwd, os.path.join('Audios', '_output'))\n",
    "print(f'Directorio con los audios de entrada: {Audios_input_path}')\n",
    "print(f'Directorio donde guardaremos los audios generados: {Audios_output_path}\\n')"
   ]
  },
  {
   "cell_type": "code",
   "execution_count": null,
   "id": "79af5576-6a11-4e4a-9901-6b9d7862a17c",
   "metadata": {},
   "outputs": [],
   "source": [
    "# Se combina la ruta de entrada con el nombre del audio y se lee el archivo\n",
    "filename = os.path.join(Audios_input_path, 'interstellar.wav')\n",
    "sample_rate, audio_data = wavfile.read(filename)"
   ]
  },
  {
   "cell_type": "code",
   "execution_count": null,
   "id": "bc293f65-51d6-47ea-805a-e81e18cfd310",
   "metadata": {},
   "outputs": [],
   "source": [
    "# Se muestra la información del sonido estéreo.\n",
    "print('Datos de audio (estereo):')\n",
    "print(f'- Frecuencia de muestreo (sample rate): {sample_rate/1000} kHz')\n",
    "print(f'- Tamaño:     {audio_data.shape}')\n",
    "print(f'- 1º canal:   {audio_data[:5, 0]}...')\n",
    "print(f'- 2º canal:   {audio_data[:5, 1]}...')\n",
    "print(f'- Resolucion: {type(audio_data[0,0])}\\n')"
   ]
  },
  {
   "cell_type": "markdown",
   "id": "017b34ed-1ab1-423c-b443-f302d9b5ffc7",
   "metadata": {},
   "source": [
    "#### 4. He incluido un widget para reproducir el audio estéreo:"
   ]
  },
  {
   "cell_type": "code",
   "execution_count": null,
   "id": "f3bee7c8-49bb-4e75-a961-a48dcd32b727",
   "metadata": {},
   "outputs": [],
   "source": [
    "IPython.display.Audio(audio_data.T, rate=sample_rate) # Creación del widget para el audio estéreo"
   ]
  },
  {
   "cell_type": "markdown",
   "id": "201f502c-f34f-4909-97e8-7e41db6a59ff",
   "metadata": {},
   "source": [
    "#### 5. Convierto el archivo de audio estéreo a mono y muestro sus características de la siguiente manera:"
   ]
  },
  {
   "cell_type": "code",
   "execution_count": null,
   "id": "4c4e8301-c624-4255-af2c-bf3ce7530098",
   "metadata": {},
   "outputs": [],
   "source": [
    "# Se convierte el audio estéreo a mono utilizando la media de los canales\n",
    "new_data_mono = audio_data.mean(axis=1)  # Calcula el promedio columna por columna\n",
    "print('Nuevos datos de audio (mono):')\n",
    "print(f'- Nuevo tamaño: {new_data_mono.shape}')\n",
    "print(f'- Canal unico:  {new_data_mono[:5]}...')\n",
    "\n",
    "# Se mantiene la misma resolución que el audio original\n",
    "new_data_mono = new_data_mono.astype(np.int16)\n",
    "print(f'- Resolucion:   {type(new_data_mono[0])}')\n",
    "print(f'- Frecuencia de muestreo (sample rate): {sample_rate/1000} kHz\\n')"
   ]
  },
  {
   "cell_type": "code",
   "execution_count": null,
   "id": "4f9265c8-8b31-4c0d-9f33-388378ed0de7",
   "metadata": {},
   "outputs": [],
   "source": [
    "# Se guarda el archivo mono a un fichero de tipo wav.\n",
    "wavfile.write(\n",
    "    filename=os.path.join(Audios_output_path, 'interstellar.wav'),\n",
    "    rate=sample_rate,\n",
    "    data=new_data_mono\n",
    ")"
   ]
  },
  {
   "cell_type": "code",
   "execution_count": null,
   "id": "1019f0e5-4410-4f2d-b59e-09f058a1bc90",
   "metadata": {},
   "outputs": [],
   "source": [
    "# Se muestra el tamaño de los archivos\n",
    "!ls -sh Audios/_input/interstellar.wav\n",
    "!ls -sh Audios/_output/interstellar.wav"
   ]
  },
  {
   "cell_type": "markdown",
   "id": "444bb0ac-e154-4dd8-b0e6-7df245ae369c",
   "metadata": {},
   "source": [
    "#### 6. Vuelvo a incluir un widget, pero ahora para reproducir el audio mono:"
   ]
  },
  {
   "cell_type": "code",
   "execution_count": null,
   "id": "522a8ee1-8ea7-49fe-92a0-6e436ef70083",
   "metadata": {},
   "outputs": [],
   "source": [
    "IPython.display.Audio(new_data_mono, rate=sample_rate) #Creación del widget para el audio mono"
   ]
  },
  {
   "cell_type": "markdown",
   "id": "2f3356fd-e5a9-4c4f-9b35-7ec951ab7224",
   "metadata": {},
   "source": [
    "#### 7. Gráfica en el dominio del tiempo para el audio mono y estéreo:"
   ]
  },
  {
   "cell_type": "code",
   "execution_count": null,
   "id": "527299a2-13b2-418a-b91c-25b253457c5b",
   "metadata": {},
   "outputs": [],
   "source": [
    "import matplotlib.pyplot as plt\n",
    "import numpy as np\n",
    "\n",
    "# Configuración de la figura para graficar\n",
    "plt.figure(figsize=(14, 6))\n",
    "\n",
    "# Grafica señal estéreo\n",
    "plt.subplot(2, 1, 1)\n",
    "if audio_data.ndim > 1:\n",
    "    for channel in range(audio_data.shape[1]):\n",
    "        plt.plot(audio_data[:, channel], label=f'Canal {channel + 1}')\n",
    "    plt.title('Señal de Audio Estéreo')\n",
    "else:\n",
    "    plt.plot(audio_data)\n",
    "    plt.title('Señal de Audio Estéreo (Canal Único)')\n",
    "plt.xlabel('Índice de Muestra')\n",
    "plt.ylabel('Amplitud')\n",
    "plt.legend()\n",
    "\n",
    "# Grafica señal mono\n",
    "plt.subplot(2, 1, 2)\n",
    "plt.plot(new_data_mono)\n",
    "plt.title('Señal de Audio Mono')\n",
    "plt.xlabel('Índice de Muestra')\n",
    "plt.ylabel('Amplitud')\n",
    "\n",
    "plt.tight_layout()\n",
    "plt.show()\n"
   ]
  },
  {
   "cell_type": "markdown",
   "id": "99ca02ec-ce6c-4092-be61-e444353271ed",
   "metadata": {},
   "source": [
    "#### 8. Diferencia entre audio estéreo y mono:"
   ]
  },
  {
   "cell_type": "markdown",
   "id": "3591cab4-177f-46be-a458-3288742d4b01",
   "metadata": {},
   "source": [
    "Las principales diferencias entre audio estéreo y mono son:\n",
    "* El audio mono utiliza un único canal de mientras que el audio estéreo utiliza dos canales (izquierdo y derecho).\n",
    "* El audio estéreo al utilizar dos canales produce un sonido con sensación de profundidad y más envolvente que el mono, el cuál produce el mismo sonido para varios altavoces.\n",
    "* El audio estéreo se usa para entretenimiento y escuchar música y el mono para cuando se prefiere un sonido más simple y claro.\n",
    "* Debido a todo lo anterior el audio mono es menos costoso que el audio estéreo."
   ]
  }
 ],
 "metadata": {
  "kernelspec": {
   "display_name": "Practica3",
   "language": "python",
   "name": "practica3"
  },
  "language_info": {
   "codemirror_mode": {
    "name": "ipython",
    "version": 3
   },
   "file_extension": ".py",
   "mimetype": "text/x-python",
   "name": "python",
   "nbconvert_exporter": "python",
   "pygments_lexer": "ipython3",
   "version": "3.12.2"
  }
 },
 "nbformat": 4,
 "nbformat_minor": 5
}
